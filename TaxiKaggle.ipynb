{
 "cells": [
  {
   "cell_type": "code",
   "execution_count": 55,
   "metadata": {},
   "outputs": [],
   "source": [
    "# library import\n",
    "import pandas as pd # DataFrame support\n",
    "import numpy as np # algebra / computations\n",
    "\n",
    "import matplotlib.pyplot as plt # plotting\n",
    "import seaborn as sns # fancier plotting\n",
    "%matplotlib inline\n",
    "\n",
    "import sklearn\n",
    "import warnings\n",
    "\n",
    "import matplotlib\n",
    "matplotlib.style.use('fivethirtyeight')\n",
    "plt.rcParams['figure.figsize'] = (8.5, 5)\n",
    "plt.rcParams[\"patch.force_edgecolor\"] = True\n",
    "pd.set_option('display.float_format', lambda x: '%.3f' % x)\n",
    "sns.mpl.rc(\"figure\", figsize=(8.5,5))"
   ]
  },
  {
   "cell_type": "code",
   "execution_count": 3,
   "metadata": {},
   "outputs": [],
   "source": [
    "df_train = pd.read_csv(filepath_or_buffer='train.csv', \n",
    "                       engine='c', \n",
    "                       infer_datetime_format=True, # to speed-up datetime parsing\n",
    "                       parse_dates=[2,3] # specify datetime columns\n",
    "                      )\n",
    "\n",
    "df_train.store_and_fwd_flag = df_train.store_and_fwd_flag.astype('category')"
   ]
  },
  {
   "cell_type": "code",
   "execution_count": 5,
   "metadata": {},
   "outputs": [],
   "source": [
    "# optimize dtypes for memory usage\n",
    "df_train.passenger_count = df_train.passenger_count.astype(np.uint8)\n",
    "df_train.vendor_id = df_train.vendor_id.astype(np.uint8)\n",
    "df_train.trip_duration = df_train.trip_duration.astype(np.uint32)\n",
    "for c in [c for c in df_train.columns if c.endswith('tude')]:\n",
    "    df_train.loc[:, c] = df_train[c].astype(np.float32)"
   ]
  },
  {
   "cell_type": "code",
   "execution_count": 6,
   "metadata": {},
   "outputs": [
    {
     "data": {
      "text/html": [
       "<div>\n",
       "<style scoped>\n",
       "    .dataframe tbody tr th:only-of-type {\n",
       "        vertical-align: middle;\n",
       "    }\n",
       "\n",
       "    .dataframe tbody tr th {\n",
       "        vertical-align: top;\n",
       "    }\n",
       "\n",
       "    .dataframe thead th {\n",
       "        text-align: right;\n",
       "    }\n",
       "</style>\n",
       "<table border=\"1\" class=\"dataframe\">\n",
       "  <thead>\n",
       "    <tr style=\"text-align: right;\">\n",
       "      <th></th>\n",
       "      <th>id</th>\n",
       "      <th>vendor_id</th>\n",
       "      <th>pickup_datetime</th>\n",
       "      <th>dropoff_datetime</th>\n",
       "      <th>passenger_count</th>\n",
       "      <th>pickup_longitude</th>\n",
       "      <th>pickup_latitude</th>\n",
       "      <th>dropoff_longitude</th>\n",
       "      <th>dropoff_latitude</th>\n",
       "      <th>store_and_fwd_flag</th>\n",
       "      <th>trip_duration</th>\n",
       "    </tr>\n",
       "  </thead>\n",
       "  <tbody>\n",
       "    <tr>\n",
       "      <th>0</th>\n",
       "      <td>id2875421</td>\n",
       "      <td>2</td>\n",
       "      <td>2016-03-14 17:24:55</td>\n",
       "      <td>2016-03-14 17:32:30</td>\n",
       "      <td>1</td>\n",
       "      <td>-73.982155</td>\n",
       "      <td>40.767937</td>\n",
       "      <td>-73.964630</td>\n",
       "      <td>40.765602</td>\n",
       "      <td>N</td>\n",
       "      <td>455</td>\n",
       "    </tr>\n",
       "    <tr>\n",
       "      <th>1</th>\n",
       "      <td>id2377394</td>\n",
       "      <td>1</td>\n",
       "      <td>2016-06-12 00:43:35</td>\n",
       "      <td>2016-06-12 00:54:38</td>\n",
       "      <td>1</td>\n",
       "      <td>-73.980415</td>\n",
       "      <td>40.738564</td>\n",
       "      <td>-73.999481</td>\n",
       "      <td>40.731152</td>\n",
       "      <td>N</td>\n",
       "      <td>663</td>\n",
       "    </tr>\n",
       "    <tr>\n",
       "      <th>2</th>\n",
       "      <td>id3858529</td>\n",
       "      <td>2</td>\n",
       "      <td>2016-01-19 11:35:24</td>\n",
       "      <td>2016-01-19 12:10:48</td>\n",
       "      <td>1</td>\n",
       "      <td>-73.979027</td>\n",
       "      <td>40.763939</td>\n",
       "      <td>-74.005333</td>\n",
       "      <td>40.710087</td>\n",
       "      <td>N</td>\n",
       "      <td>2124</td>\n",
       "    </tr>\n",
       "    <tr>\n",
       "      <th>3</th>\n",
       "      <td>id3504673</td>\n",
       "      <td>2</td>\n",
       "      <td>2016-04-06 19:32:31</td>\n",
       "      <td>2016-04-06 19:39:40</td>\n",
       "      <td>1</td>\n",
       "      <td>-74.010040</td>\n",
       "      <td>40.719971</td>\n",
       "      <td>-74.012268</td>\n",
       "      <td>40.706718</td>\n",
       "      <td>N</td>\n",
       "      <td>429</td>\n",
       "    </tr>\n",
       "    <tr>\n",
       "      <th>4</th>\n",
       "      <td>id2181028</td>\n",
       "      <td>2</td>\n",
       "      <td>2016-03-26 13:30:55</td>\n",
       "      <td>2016-03-26 13:38:10</td>\n",
       "      <td>1</td>\n",
       "      <td>-73.973053</td>\n",
       "      <td>40.793209</td>\n",
       "      <td>-73.972923</td>\n",
       "      <td>40.782520</td>\n",
       "      <td>N</td>\n",
       "      <td>435</td>\n",
       "    </tr>\n",
       "  </tbody>\n",
       "</table>\n",
       "</div>"
      ],
      "text/plain": [
       "          id  vendor_id     pickup_datetime    dropoff_datetime  \\\n",
       "0  id2875421          2 2016-03-14 17:24:55 2016-03-14 17:32:30   \n",
       "1  id2377394          1 2016-06-12 00:43:35 2016-06-12 00:54:38   \n",
       "2  id3858529          2 2016-01-19 11:35:24 2016-01-19 12:10:48   \n",
       "3  id3504673          2 2016-04-06 19:32:31 2016-04-06 19:39:40   \n",
       "4  id2181028          2 2016-03-26 13:30:55 2016-03-26 13:38:10   \n",
       "\n",
       "   passenger_count  pickup_longitude  pickup_latitude  dropoff_longitude  \\\n",
       "0                1        -73.982155        40.767937         -73.964630   \n",
       "1                1        -73.980415        40.738564         -73.999481   \n",
       "2                1        -73.979027        40.763939         -74.005333   \n",
       "3                1        -74.010040        40.719971         -74.012268   \n",
       "4                1        -73.973053        40.793209         -73.972923   \n",
       "\n",
       "   dropoff_latitude store_and_fwd_flag  trip_duration  \n",
       "0         40.765602                  N            455  \n",
       "1         40.731152                  N            663  \n",
       "2         40.710087                  N           2124  \n",
       "3         40.706718                  N            429  \n",
       "4         40.782520                  N            435  "
      ]
     },
     "execution_count": 6,
     "metadata": {},
     "output_type": "execute_result"
    }
   ],
   "source": [
    "df_train.head()"
   ]
  },
  {
   "cell_type": "code",
   "execution_count": 47,
   "metadata": {},
   "outputs": [
    {
     "data": {
      "text/plain": [
       "id                    0\n",
       "vendor_id             0\n",
       "pickup_datetime       0\n",
       "dropoff_datetime      0\n",
       "passenger_count       0\n",
       "pickup_longitude      0\n",
       "pickup_latitude       0\n",
       "dropoff_longitude     0\n",
       "dropoff_latitude      0\n",
       "store_and_fwd_flag    0\n",
       "trip_duration         0\n",
       "mm_pickup             0\n",
       "mm_dropoff            0\n",
       "dow_pickup            0\n",
       "dow_dropoff           0\n",
       "hh_pickup             0\n",
       "hh_dropoff            0\n",
       "dtype: int64"
      ]
     },
     "execution_count": 47,
     "metadata": {},
     "output_type": "execute_result"
    }
   ],
   "source": [
    "df_train.isnull().sum()"
   ]
  },
  {
   "cell_type": "markdown",
   "metadata": {},
   "source": [
    "#### no N/A values"
   ]
  },
  {
   "cell_type": "code",
   "execution_count": 48,
   "metadata": {},
   "outputs": [
    {
     "data": {
      "text/html": [
       "<div>\n",
       "<style scoped>\n",
       "    .dataframe tbody tr th:only-of-type {\n",
       "        vertical-align: middle;\n",
       "    }\n",
       "\n",
       "    .dataframe tbody tr th {\n",
       "        vertical-align: top;\n",
       "    }\n",
       "\n",
       "    .dataframe thead th {\n",
       "        text-align: right;\n",
       "    }\n",
       "</style>\n",
       "<table border=\"1\" class=\"dataframe\">\n",
       "  <thead>\n",
       "    <tr style=\"text-align: right;\">\n",
       "      <th></th>\n",
       "      <th>count</th>\n",
       "      <th>mean</th>\n",
       "      <th>std</th>\n",
       "      <th>min</th>\n",
       "      <th>25%</th>\n",
       "      <th>50%</th>\n",
       "      <th>75%</th>\n",
       "      <th>max</th>\n",
       "    </tr>\n",
       "  </thead>\n",
       "  <tbody>\n",
       "    <tr>\n",
       "      <th>vendor_id</th>\n",
       "      <td>1447779.0</td>\n",
       "      <td>1.535046</td>\n",
       "      <td>0.498770</td>\n",
       "      <td>1.000000</td>\n",
       "      <td>1.000000</td>\n",
       "      <td>2.000000</td>\n",
       "      <td>2.000000</td>\n",
       "      <td>2.000000</td>\n",
       "    </tr>\n",
       "    <tr>\n",
       "      <th>passenger_count</th>\n",
       "      <td>1447779.0</td>\n",
       "      <td>1.665358</td>\n",
       "      <td>1.314684</td>\n",
       "      <td>1.000000</td>\n",
       "      <td>1.000000</td>\n",
       "      <td>1.000000</td>\n",
       "      <td>2.000000</td>\n",
       "      <td>9.000000</td>\n",
       "    </tr>\n",
       "    <tr>\n",
       "      <th>pickup_longitude</th>\n",
       "      <td>1447779.0</td>\n",
       "      <td>-73.973625</td>\n",
       "      <td>0.070765</td>\n",
       "      <td>-121.933342</td>\n",
       "      <td>-73.991875</td>\n",
       "      <td>-73.981766</td>\n",
       "      <td>-73.967430</td>\n",
       "      <td>-61.335529</td>\n",
       "    </tr>\n",
       "    <tr>\n",
       "      <th>pickup_latitude</th>\n",
       "      <td>1447779.0</td>\n",
       "      <td>40.750980</td>\n",
       "      <td>0.032670</td>\n",
       "      <td>34.359695</td>\n",
       "      <td>40.737411</td>\n",
       "      <td>40.754135</td>\n",
       "      <td>40.768368</td>\n",
       "      <td>51.881084</td>\n",
       "    </tr>\n",
       "    <tr>\n",
       "      <th>dropoff_longitude</th>\n",
       "      <td>1447779.0</td>\n",
       "      <td>-73.973579</td>\n",
       "      <td>0.070504</td>\n",
       "      <td>-121.933304</td>\n",
       "      <td>-73.991325</td>\n",
       "      <td>-73.979767</td>\n",
       "      <td>-73.963097</td>\n",
       "      <td>-61.335529</td>\n",
       "    </tr>\n",
       "    <tr>\n",
       "      <th>dropoff_latitude</th>\n",
       "      <td>1447779.0</td>\n",
       "      <td>40.751850</td>\n",
       "      <td>0.035725</td>\n",
       "      <td>32.181141</td>\n",
       "      <td>40.735943</td>\n",
       "      <td>40.754559</td>\n",
       "      <td>40.769829</td>\n",
       "      <td>43.921028</td>\n",
       "    </tr>\n",
       "    <tr>\n",
       "      <th>trip_duration</th>\n",
       "      <td>1447779.0</td>\n",
       "      <td>840.874047</td>\n",
       "      <td>653.257941</td>\n",
       "      <td>60.000000</td>\n",
       "      <td>401.000000</td>\n",
       "      <td>665.000000</td>\n",
       "      <td>1076.000000</td>\n",
       "      <td>7191.000000</td>\n",
       "    </tr>\n",
       "    <tr>\n",
       "      <th>mm_pickup</th>\n",
       "      <td>1447779.0</td>\n",
       "      <td>3.516460</td>\n",
       "      <td>1.681069</td>\n",
       "      <td>1.000000</td>\n",
       "      <td>2.000000</td>\n",
       "      <td>4.000000</td>\n",
       "      <td>5.000000</td>\n",
       "      <td>6.000000</td>\n",
       "    </tr>\n",
       "    <tr>\n",
       "      <th>mm_dropoff</th>\n",
       "      <td>1447779.0</td>\n",
       "      <td>3.516770</td>\n",
       "      <td>1.681240</td>\n",
       "      <td>1.000000</td>\n",
       "      <td>2.000000</td>\n",
       "      <td>4.000000</td>\n",
       "      <td>5.000000</td>\n",
       "      <td>7.000000</td>\n",
       "    </tr>\n",
       "    <tr>\n",
       "      <th>dow_pickup</th>\n",
       "      <td>1447779.0</td>\n",
       "      <td>3.049533</td>\n",
       "      <td>1.953777</td>\n",
       "      <td>0.000000</td>\n",
       "      <td>1.000000</td>\n",
       "      <td>3.000000</td>\n",
       "      <td>5.000000</td>\n",
       "      <td>6.000000</td>\n",
       "    </tr>\n",
       "    <tr>\n",
       "      <th>dow_dropoff</th>\n",
       "      <td>1447779.0</td>\n",
       "      <td>3.053778</td>\n",
       "      <td>1.956150</td>\n",
       "      <td>0.000000</td>\n",
       "      <td>1.000000</td>\n",
       "      <td>3.000000</td>\n",
       "      <td>5.000000</td>\n",
       "      <td>6.000000</td>\n",
       "    </tr>\n",
       "    <tr>\n",
       "      <th>hh_pickup</th>\n",
       "      <td>1447779.0</td>\n",
       "      <td>13.611912</td>\n",
       "      <td>6.396916</td>\n",
       "      <td>0.000000</td>\n",
       "      <td>9.000000</td>\n",
       "      <td>14.000000</td>\n",
       "      <td>19.000000</td>\n",
       "      <td>23.000000</td>\n",
       "    </tr>\n",
       "    <tr>\n",
       "      <th>hh_dropoff</th>\n",
       "      <td>1447779.0</td>\n",
       "      <td>13.605611</td>\n",
       "      <td>6.480203</td>\n",
       "      <td>0.000000</td>\n",
       "      <td>9.000000</td>\n",
       "      <td>14.000000</td>\n",
       "      <td>19.000000</td>\n",
       "      <td>23.000000</td>\n",
       "    </tr>\n",
       "  </tbody>\n",
       "</table>\n",
       "</div>"
      ],
      "text/plain": [
       "                       count        mean         std         min         25%  \\\n",
       "vendor_id          1447779.0    1.535046    0.498770    1.000000    1.000000   \n",
       "passenger_count    1447779.0    1.665358    1.314684    1.000000    1.000000   \n",
       "pickup_longitude   1447779.0  -73.973625    0.070765 -121.933342  -73.991875   \n",
       "pickup_latitude    1447779.0   40.750980    0.032670   34.359695   40.737411   \n",
       "dropoff_longitude  1447779.0  -73.973579    0.070504 -121.933304  -73.991325   \n",
       "dropoff_latitude   1447779.0   40.751850    0.035725   32.181141   40.735943   \n",
       "trip_duration      1447779.0  840.874047  653.257941   60.000000  401.000000   \n",
       "mm_pickup          1447779.0    3.516460    1.681069    1.000000    2.000000   \n",
       "mm_dropoff         1447779.0    3.516770    1.681240    1.000000    2.000000   \n",
       "dow_pickup         1447779.0    3.049533    1.953777    0.000000    1.000000   \n",
       "dow_dropoff        1447779.0    3.053778    1.956150    0.000000    1.000000   \n",
       "hh_pickup          1447779.0   13.611912    6.396916    0.000000    9.000000   \n",
       "hh_dropoff         1447779.0   13.605611    6.480203    0.000000    9.000000   \n",
       "\n",
       "                          50%          75%          max  \n",
       "vendor_id            2.000000     2.000000     2.000000  \n",
       "passenger_count      1.000000     2.000000     9.000000  \n",
       "pickup_longitude   -73.981766   -73.967430   -61.335529  \n",
       "pickup_latitude     40.754135    40.768368    51.881084  \n",
       "dropoff_longitude  -73.979767   -73.963097   -61.335529  \n",
       "dropoff_latitude    40.754559    40.769829    43.921028  \n",
       "trip_duration      665.000000  1076.000000  7191.000000  \n",
       "mm_pickup            4.000000     5.000000     6.000000  \n",
       "mm_dropoff           4.000000     5.000000     7.000000  \n",
       "dow_pickup           3.000000     5.000000     6.000000  \n",
       "dow_dropoff          3.000000     5.000000     6.000000  \n",
       "hh_pickup           14.000000    19.000000    23.000000  \n",
       "hh_dropoff          14.000000    19.000000    23.000000  "
      ]
     },
     "execution_count": 48,
     "metadata": {},
     "output_type": "execute_result"
    }
   ],
   "source": [
    "df_train.describe().transpose()"
   ]
  },
  {
   "cell_type": "code",
   "execution_count": 14,
   "metadata": {},
   "outputs": [
    {
     "name": "stdout",
     "output_type": "stream",
     "text": [
      "No of Duplicates, Trip IDs: 0\n",
      "Latitude bounds: 34.35969543457031 to 51.88108444213867\n",
      "Longitude bounds: -121.93330383300781 to -61.33552932739258\n",
      "Trip duration in seconds: 1 to 3526282\n",
      "Incorrect trip duration's calculations: 0\n",
      "Vendors cnt: 2\n",
      "Datetime range: 2016-01-01 00:00:17 to 2016-07-01 23:02:03\n",
      "Passengers: 0 to 9\n"
     ]
    }
   ],
   "source": [
    "# check for duplicate ids - nice, no duplicates\n",
    "print('No of Duplicates, Trip IDs: {}'.format(len(df_train) - \n",
    "                                              len(df_train.drop_duplicates(subset='id'))))\n",
    "\n",
    "# check latitude/longitude bounds, Latitude: -85 to +85, Longitude: -180 to +180\n",
    "print('Latitude bounds: {} to {}'.format(\n",
    "    max(df_train.pickup_latitude.min(), df_train.dropoff_latitude.min()),\n",
    "    max(df_train.pickup_latitude.max(), df_train.dropoff_latitude.max())\n",
    "))\n",
    "print('Longitude bounds: {} to {}'.format(\n",
    "    max(df_train.pickup_longitude.min(), df_train.dropoff_longitude.min()),\n",
    "    max(df_train.pickup_longitude.max(), df_train.dropoff_longitude.max())\n",
    "))\n",
    "\n",
    "# check trip duration - oops, looks like:\n",
    "# 1) someone was on the road for 3526282sec ~ 40 days and forget to switch-off the counter, he-he\n",
    "# 2) someone has invented quantum teleportation and made trips in 1-2 sec\n",
    "# more closer look reveals some consecutive measurements, say, distance = 33ft, time=1sec\n",
    "print('Trip duration in seconds: {} to {}'.format(\n",
    "    df_train.trip_duration.min(), df_train.trip_duration.max()\n",
    "))\n",
    "# let's also check that trip_duration == drop-off time - pick-up time, nice, no errors\n",
    "print(\"Incorrect trip duration's calculations: {}\".format(\n",
    "    (df_train.trip_duration != df_train.dropoff_datetime.sub(df_train.pickup_datetime, axis=0) \n",
    "     / np.timedelta64(1, 's')).sum())\n",
    ")\n",
    "\n",
    "# vendors cnt, only 2\n",
    "print('Vendors cnt: {}'.format(len(df_train.vendor_id.unique())))\n",
    "# datetime range - 6 full months, from January 2016 to June 2016\n",
    "print('Datetime range: {} to {}'.format(df_train.pickup_datetime.min(), \n",
    "                                        df_train.dropoff_datetime.max()))\n",
    "\n",
    "# passenger count - the common sense implies values between 1 and 10(Ford Transit), let's check\n",
    "# zeroes, hmm...\n",
    "print('Passengers: {} to {}'.format(df_train.passenger_count.min(), \n",
    "                                        df_train.passenger_count.max()))"
   ]
  },
  {
   "cell_type": "code",
   "execution_count": 15,
   "metadata": {},
   "outputs": [
    {
     "name": "stdout",
     "output_type": "stream",
     "text": [
      "Anomalies in trip duration, %: 0.74\n",
      "Trip duration in seconds: 60 to 7191\n",
      "Empty trips: 17\n"
     ]
    }
   ],
   "source": [
    "# Since there are less than 10k rows with anomalies in trip_duration (in common sense), \n",
    "# we can safely remove them\n",
    "duration_mask = ((df_train.trip_duration < 60) | # < 1 min\n",
    "             (df_train.trip_duration > 3600*2)) # > 2 hours\n",
    "print('Anomalies in trip duration, %: {:.2f}'.format(\n",
    "    df_train[duration_mask].shape[0] / df_train.shape[0] * 100\n",
    "))\n",
    "df_train = df_train[~duration_mask]\n",
    "df_train.trip_duration = df_train.trip_duration.astype(np.uint16)\n",
    "# let's see range now\n",
    "print('Trip duration in seconds: {} to {}'.format(\n",
    "    df_train.trip_duration.min(), df_train.trip_duration.max()\n",
    "))\n",
    "\n",
    "# let's also drop trips with passenger count = 0, since there are only 17 of them\n",
    "print('Empty trips: {}'.format(df_train[df_train.passenger_count == 0].shape[0]))\n",
    "df_train = df_train[df_train.passenger_count > 0]"
   ]
  },
  {
   "cell_type": "code",
   "execution_count": 16,
   "metadata": {},
   "outputs": [],
   "source": [
    "# Let's add some additional columns to speed-up calculations\n",
    "# dow names for plot mapping\n",
    "dow_names = ['Monday', 'Tuesday', 'Wednesday', 'Thursday', 'Friday', 'Saturday', 'Sunday']\n",
    "# mm names for plot mapping\n",
    "mm_names = [\n",
    "    'January', 'February', 'March', 'April', 'May', 'June', \n",
    "    'July', 'August', 'September', 'October', 'November', 'December'\n",
    "]\n",
    "\n",
    "# month (pickup and dropoff)\n",
    "df_train['mm_pickup'] = df_train.pickup_datetime.dt.month.astype(np.uint8)\n",
    "df_train['mm_dropoff'] = df_train.dropoff_datetime.dt.month.astype(np.uint8)\n",
    "# day of week\n",
    "df_train['dow_pickup'] = df_train.pickup_datetime.dt.weekday.astype(np.uint8)\n",
    "df_train['dow_dropoff'] = df_train.dropoff_datetime.dt.weekday.astype(np.uint8)\n",
    "# day hour\n",
    "df_train['hh_pickup'] = df_train.pickup_datetime.dt.hour.astype(np.uint8)\n",
    "df_train['hh_dropoff'] = df_train.dropoff_datetime.dt.hour.astype(np.uint8)"
   ]
  },
  {
   "cell_type": "code",
   "execution_count": 18,
   "metadata": {},
   "outputs": [
    {
     "data": {
      "image/png": "[encoded data removed]",
      "text/plain": [
       "<Figure size 864x144 with 1 Axes>"
      ]
     },
     "metadata": {
      "needs_background": "light"
     },
     "output_type": "display_data"
    }
   ],
   "source": [
    "# pickup time distribution, hour-of-day\n",
    "plt.figure(figsize=(12,2))\n",
    "\n",
    "data = df_train.groupby('hh_pickup').aggregate({'id':'count'}).reset_index()\n",
    "sns.barplot(x='hh_pickup', y='id', data=data)\n",
    "\n",
    "plt.title('Pick-ups Hour Distribution')\n",
    "plt.xlabel('Hour of Day, 0-23')\n",
    "plt.ylabel('No of Trips made')\n",
    "plt.show()"
   ]
  },
  {
   "cell_type": "code",
   "execution_count": 19,
   "metadata": {},
   "outputs": [
    {
     "data": {
      "image/png": "[encoded data removed]",
      "text/plain": [
       "<Figure size 864x144 with 1 Axes>"
      ]
     },
     "metadata": {
      "needs_background": "light"
     },
     "output_type": "display_data"
    }
   ],
   "source": [
    "# pickup distribution, by weekday\n",
    "plt.figure(figsize=(12,2))\n",
    "\n",
    "data = df_train.groupby('dow_pickup').aggregate({'id':'count'}).reset_index()\n",
    "sns.barplot(x='dow_pickup', y='id', data=data)\n",
    "\n",
    "plt.title('Pick-ups Weekday Distribution')\n",
    "plt.xlabel('Trip Duration, minutes')\n",
    "plt.xticks(range(0,7), dow_names, rotation='horizontal')\n",
    "plt.ylabel('No of Trips made')\n",
    "plt.show()"
   ]
  },
  {
   "cell_type": "code",
   "execution_count": 22,
   "metadata": {},
   "outputs": [
    {
     "data": {
      "image/png": "[encoded data removed]",
      "text/plain": [
       "<Figure size 864x144 with 1 Axes>"
      ]
     },
     "metadata": {
      "needs_background": "light"
     },
     "output_type": "display_data"
    }
   ],
   "source": [
    "# pickup distribution, by months\n",
    "plt.figure(figsize=(12,2))\n",
    "\n",
    "data = df_train.groupby('mm_pickup').aggregate({'id':'count'}).reset_index()\n",
    "sns.barplot(x='mm_pickup', y='id', data=data)\n",
    "\n",
    "plt.title('Pick-up Month Distribution')\n",
    "plt.xlabel('Trip Duration, minutes')\n",
    "plt.xticks(range(0,7), mm_names[:6], rotation='horizontal')\n",
    "plt.ylabel('No of Trips made')\n",
    "plt.show()"
   ]
  },
  {
   "cell_type": "code",
   "execution_count": null,
   "metadata": {},
   "outputs": [],
   "source": [
    "pd.crosstab"
   ]
  },
  {
   "cell_type": "code",
   "execution_count": 42,
   "metadata": {},
   "outputs": [
    {
     "data": {
      "image/png": "[encoded data removed]",
      "text/plain": [
       "<Figure size 864x144 with 2 Axes>"
      ]
     },
     "metadata": {
      "needs_background": "light"
     },
     "output_type": "display_data"
    }
   ],
   "source": [
    "# Pickup heatmap, dow vs hour\n",
    "plt.figure(figsize=(12,2))\n",
    "sns.heatmap(data=pd.crosstab(df_train.dow_pickup, \n",
    "                             df_train.hh_pickup, \n",
    "                             values=df_train.vendor_id, \n",
    "                             aggfunc='count',\n",
    "                             normalize='index'))\n",
    "\n",
    "plt.title('Pickup heatmap, Day-of-Week vs. Day Hour')\n",
    "plt.ylabel('Weekday') ; plt.xlabel('Day Hour, 0-23')\n",
    "plt.yticks(range(0,7), dow_names[::-1], rotation='horizontal')\n",
    "plt.show()"
   ]
  },
  {
   "cell_type": "code",
   "execution_count": 43,
   "metadata": {},
   "outputs": [
    {
     "name": "stderr",
     "output_type": "stream",
     "text": [
      "/Library/Frameworks/Python.framework/Versions/3.7/lib/python3.7/site-packages/scipy/stats/stats.py:1713: FutureWarning: Using a non-tuple sequence for multidimensional indexing is deprecated; use `arr[tuple(seq)]` instead of `arr[seq]`. In the future this will be interpreted as an array index, `arr[np.array(seq)]`, which will result either in an error or a different result.\n",
      "  return np.add.reduce(sorted[indexer] * weights, axis=axis) / sumval\n"
     ]
    },
    {
     "data": {
      "image/png": "[encoded data removed]",
      "text/plain": [
       "<Figure size 864x432 with 1 Axes>"
      ]
     },
     "metadata": {
      "needs_background": "light"
     },
     "output_type": "display_data"
    }
   ],
   "source": [
    "# vendor pick-up hours density by weekdays\n",
    "plt.figure(figsize=(12,6))\n",
    "sns.violinplot(x=df_train.dow_pickup, \n",
    "               y=df_train.hh_pickup, \n",
    "               hue=df_train.vendor_id, \n",
    "               split=True)\n",
    "\n",
    "plt.title('Vendor pick-up hours density, by weekday')\n",
    "plt.xlabel('Weekday') ; plt.ylabel('Day Hour, 0-23')\n",
    "plt.xticks(range(0,7), dow_names, rotation='horizontal')\n",
    "plt.show()"
   ]
  },
  {
   "cell_type": "code",
   "execution_count": 44,
   "metadata": {},
   "outputs": [
    {
     "data": {
      "image/png": "[encoded data removed]",
      "text/plain": [
       "<Figure size 864x216 with 1 Axes>"
      ]
     },
     "metadata": {
      "needs_background": "light"
     },
     "output_type": "display_data"
    }
   ],
   "source": [
    "# trip duration distribution, minutes\n",
    "plt.figure(figsize=(12,3))\n",
    "plt.title('Trip Duration Distribution')\n",
    "plt.xlabel('Trip Duration, minutes')\n",
    "plt.ylabel('No of Trips made')\n",
    "plt.hist(df_train.trip_duration/60, bins=100)\n",
    "pass"
   ]
  },
  {
   "cell_type": "code",
   "execution_count": 67,
   "metadata": {},
   "outputs": [
    {
     "data": {
      "text/plain": [
       "Index(['id', 'vendor_id', 'passenger_count', 'pickup_longitude',\n",
       "       'pickup_latitude', 'dropoff_longitude', 'dropoff_latitude',\n",
       "       'store_and_fwd_flag', 'trip_duration', 'pickup_date', 'pickup_time',\n",
       "       'dropoff_date', 'dropoff_time', 'pickup_month', 'pickup_hour',\n",
       "       'pickup_weekday'],\n",
       "      dtype='object')"
      ]
     },
     "execution_count": 67,
     "metadata": {},
     "output_type": "execute_result"
    }
   ],
   "source": [
    "train_data = pd.read_csv(filepath_or_buffer='train.csv', \n",
    "                       engine='c', \n",
    "                       infer_datetime_format=True, # to speed-up datetime parsing\n",
    "                       parse_dates=[2,3] # specify datetime columns\n",
    "                      )\n",
    "\n",
    "# Delimit pickup_datetime variable \n",
    "train_data['pickup_date'] = train_data['pickup_datetime'].dt.date # Extract date\n",
    "train_data['pickup_time'] = train_data['pickup_datetime'].dt.time # Extract time\n",
    "\n",
    "# Delimit dropoff_datetime variables\n",
    "train_data['dropoff_date'] = train_data['dropoff_datetime'].dt.date # Extract date\n",
    "train_data['dropoff_time'] = train_data['dropoff_datetime'].dt.time # Extract time\n",
    "\n",
    "# Additional pickup features\n",
    "train_data['pickup_month'] = train_data['pickup_datetime'].dt.month # Extract month\n",
    "# train_data['pickup_month'] = train_data.pickup_datetime.dt.to_period('M') # Extract yearmonth\n",
    "#train_data['pickup_YYYYMM'] = train_data['pickup_datetime'].apply(lambda x: x.strftime('%Y%m')) # Extract yearmonth\n",
    "train_data['pickup_hour'] = train_data['pickup_datetime'].dt.hour # Extract hour\n",
    "train_data['pickup_weekday'] = train_data['pickup_datetime'].dt.dayofweek # Extract day of week\n",
    "\n",
    "# Drop concatentated timestamp columns\n",
    "train_data.drop(['pickup_datetime'], axis = 1, inplace = True)\n",
    "train_data.drop(['dropoff_datetime'], axis = 1, inplace = True)\n",
    "\n",
    "# Confirm changes\n",
    "train_data.columns"
   ]
  },
  {
   "cell_type": "code",
   "execution_count": 69,
   "metadata": {},
   "outputs": [],
   "source": [
    "duration_mask = ((train_data.trip_duration < 60) | # < 1 min\n",
    "             (train_data.trip_duration > 3600*2)) # > 2 hours\n",
    "train_data = train_data[~duration_mask]\n",
    "train_data.trip_duration = train_data.trip_duration.astype(np.uint16)\n",
    "train_data = train_data[train_data.passenger_count > 0]"
   ]
  },
  {
   "cell_type": "code",
   "execution_count": 61,
   "metadata": {},
   "outputs": [
    {
     "data": {
      "text/html": [
       "<div>\n",
       "<style scoped>\n",
       "    .dataframe tbody tr th:only-of-type {\n",
       "        vertical-align: middle;\n",
       "    }\n",
       "\n",
       "    .dataframe tbody tr th {\n",
       "        vertical-align: top;\n",
       "    }\n",
       "\n",
       "    .dataframe thead th {\n",
       "        text-align: right;\n",
       "    }\n",
       "</style>\n",
       "<table border=\"1\" class=\"dataframe\">\n",
       "  <thead>\n",
       "    <tr style=\"text-align: right;\">\n",
       "      <th></th>\n",
       "      <th>count</th>\n",
       "      <th>mean</th>\n",
       "      <th>std</th>\n",
       "      <th>min</th>\n",
       "      <th>25%</th>\n",
       "      <th>50%</th>\n",
       "      <th>75%</th>\n",
       "      <th>max</th>\n",
       "    </tr>\n",
       "  </thead>\n",
       "  <tbody>\n",
       "    <tr>\n",
       "      <th>trip_duration</th>\n",
       "      <td>1447779.000</td>\n",
       "      <td>840.874</td>\n",
       "      <td>653.258</td>\n",
       "      <td>60.000</td>\n",
       "      <td>401.000</td>\n",
       "      <td>665.000</td>\n",
       "      <td>1076.000</td>\n",
       "      <td>7191.000</td>\n",
       "    </tr>\n",
       "  </tbody>\n",
       "</table>\n",
       "</div>"
      ],
      "text/plain": [
       "                    count    mean     std    min     25%     50%      75%  \\\n",
       "trip_duration 1447779.000 840.874 653.258 60.000 401.000 665.000 1076.000   \n",
       "\n",
       "                   max  \n",
       "trip_duration 7191.000  "
      ]
     },
     "execution_count": 61,
     "metadata": {},
     "output_type": "execute_result"
    }
   ],
   "source": [
    "train_data.describe()[['trip_duration']].transpose()"
   ]
  },
  {
   "cell_type": "code",
   "execution_count": 72,
   "metadata": {},
   "outputs": [],
   "source": [
    "# Remove unnecessary features\n",
    "train_data.drop(['pickup_date','pickup_time','dropoff_date', 'dropoff_time','id'], \n",
    "                axis = 1, inplace = True)"
   ]
  },
  {
   "cell_type": "code",
   "execution_count": 75,
   "metadata": {},
   "outputs": [
    {
     "data": {
      "text/plain": [
       "Index(['vendor_id', 'passenger_count', 'pickup_longitude', 'pickup_latitude',\n",
       "       'dropoff_longitude', 'dropoff_latitude', 'store_and_fwd_flag',\n",
       "       'trip_duration', 'pickup_month', 'pickup_hour', 'pickup_weekday'],\n",
       "      dtype='object')"
      ]
     },
     "execution_count": 75,
     "metadata": {},
     "output_type": "execute_result"
    }
   ],
   "source": [
    "train_data.columns"
   ]
  },
  {
   "cell_type": "code",
   "execution_count": 77,
   "metadata": {},
   "outputs": [
    {
     "data": {
      "text/plain": [
       "vendor_id               int64\n",
       "passenger_count         int64\n",
       "pickup_longitude      float64\n",
       "pickup_latitude       float64\n",
       "dropoff_longitude     float64\n",
       "dropoff_latitude      float64\n",
       "store_and_fwd_flag     object\n",
       "trip_duration          uint16\n",
       "pickup_month            int64\n",
       "pickup_hour             int64\n",
       "pickup_weekday          int64\n",
       "dtype: object"
      ]
     },
     "execution_count": 77,
     "metadata": {},
     "output_type": "execute_result"
    }
   ],
   "source": [
    "train_data.dtypes"
   ]
  },
  {
   "cell_type": "code",
   "execution_count": 80,
   "metadata": {},
   "outputs": [],
   "source": [
    "# Encode categorical variables\n",
    "train_data['store_and_fwd_flag'] = train_data['store_and_fwd_flag'].map({'N':0,'Y':1})"
   ]
  },
  {
   "cell_type": "code",
   "execution_count": 81,
   "metadata": {},
   "outputs": [],
   "source": [
    "# Split\n",
    "# Create matrix of features\n",
    "X = train_data[['vendor_id', 'passenger_count', 'pickup_longitude',\n",
    "       'pickup_latitude', 'dropoff_longitude', 'dropoff_latitude',\n",
    "       'store_and_fwd_flag','pickup_month', 'pickup_hour',\n",
    "       'pickup_weekday']] # double brackets!\n",
    "\n",
    "# Create array of target variable \n",
    "y = train_data['trip_duration']\n",
    "\n",
    "# Create train and test sets\n",
    "from sklearn.model_selection import train_test_split\n",
    "X_train, X_test, y_train, y_test = train_test_split(X, y, test_size = 0.2, random_state = 0)"
   ]
  },
  {
   "cell_type": "markdown",
   "metadata": {},
   "source": [
    "### Linear Regression"
   ]
  },
  {
   "cell_type": "code",
   "execution_count": 82,
   "metadata": {},
   "outputs": [
    {
     "name": "stderr",
     "output_type": "stream",
     "text": [
      "/Library/Frameworks/Python.framework/Versions/3.7/lib/python3.7/site-packages/sklearn/linear_model/base.py:485: RuntimeWarning: internal gelsd driver lwork query error, required iwork dimension not returned. This is likely the result of LAPACK bug 0038, fixed in LAPACK 3.2.2 (released July 21, 2010). Falling back to 'gelss' driver.\n",
      "  linalg.lstsq(X, y)\n"
     ]
    },
    {
     "name": "stdout",
     "output_type": "stream",
     "text": [
      "LinearRegression(copy_X=True, fit_intercept=True, n_jobs=None,\n",
      "         normalize=False)\n",
      "\n",
      "Linear Regression Performance Metrics\n",
      "R^2= 0.10400252210475147\n",
      "MAE: 442.3307525350176\n",
      "MSE: 381373.55199655116\n",
      "RMSE: 617.5544931393109\n"
     ]
    }
   ],
   "source": [
    "#  Import model\n",
    "from sklearn.linear_model import LinearRegression\n",
    "\n",
    "#  Instantiate model object\n",
    "lreg = LinearRegression()\n",
    "\n",
    "# Fit to training data\n",
    "lreg.fit(X_train,y_train)\n",
    "print(lreg)\n",
    "\n",
    "# Predict\n",
    "y_pred_lreg = lreg.predict(X_test)\n",
    "\n",
    "# Score It\n",
    "from sklearn import metrics\n",
    "print('\\nLinear Regression Performance Metrics')\n",
    "print('R^2=',metrics.explained_variance_score(y_test,y_pred_lreg))\n",
    "print('MAE:',metrics.mean_absolute_error(y_test,y_pred_lreg))\n",
    "print('MSE:',metrics.mean_squared_error(y_test,y_pred_lreg))\n",
    "print('RMSE:',np.sqrt(metrics.mean_squared_error(y_test,y_pred_lreg)))"
   ]
  },
  {
   "cell_type": "markdown",
   "metadata": {},
   "source": [
    "#### Such a low score is an indication that the relationship between the features and independent variable may be better explained with a non-linear model."
   ]
  },
  {
   "cell_type": "markdown",
   "metadata": {},
   "source": [
    "### Decision Tree"
   ]
  },
  {
   "cell_type": "code",
   "execution_count": 87,
   "metadata": {},
   "outputs": [
    {
     "name": "stdout",
     "output_type": "stream",
     "text": [
      "DecisionTreeRegressor(criterion='mse', max_depth=None, max_features=None,\n",
      "           max_leaf_nodes=None, min_impurity_decrease=0.0,\n",
      "           min_impurity_split=None, min_samples_leaf=1,\n",
      "           min_samples_split=2, min_weight_fraction_leaf=0.0,\n",
      "           presort=False, random_state=None, splitter='best')\n",
      "\n",
      "Decision Tree Regression Performance Metrics\n",
      "R^2= 0.5908669616869409\n",
      "MAE: 260.38859322549007\n",
      "MSE: 174229.3237137203\n",
      "RMSE: 417.40786254420306\n"
     ]
    }
   ],
   "source": [
    "# Fit\n",
    "# Import model\n",
    "from sklearn.tree import DecisionTreeRegressor\n",
    "\n",
    "# Instantiate model object\n",
    "dtree = DecisionTreeRegressor()\n",
    "\n",
    "# Fit to training data\n",
    "dtree.fit(X_train,y_train)\n",
    "print(dtree)\n",
    "\n",
    "# Predict\n",
    "y_pred_dtree = dtree.predict(X_test)\n",
    "\n",
    "# Score It\n",
    "from sklearn import metrics\n",
    "print('\\nDecision Tree Regression Performance Metrics')\n",
    "print('R^2=',metrics.explained_variance_score(y_test,y_pred_dtree))\n",
    "print('MAE:',metrics.mean_absolute_error(y_test,y_pred_dtree))\n",
    "print('MSE:',metrics.mean_squared_error(y_test,y_pred_dtree))\n",
    "print('RMSE:',np.sqrt(metrics.mean_squared_error(y_test,y_pred_dtree)))"
   ]
  },
  {
   "cell_type": "markdown",
   "metadata": {},
   "source": [
    "### Random Forest"
   ]
  },
  {
   "cell_type": "code",
   "execution_count": 88,
   "metadata": {},
   "outputs": [
    {
     "name": "stdout",
     "output_type": "stream",
     "text": [
      "RandomForestRegressor(bootstrap=True, criterion='mse', max_depth=None,\n",
      "           max_features='auto', max_leaf_nodes=None,\n",
      "           min_impurity_decrease=0.0, min_impurity_split=None,\n",
      "           min_samples_leaf=1, min_samples_split=2,\n",
      "           min_weight_fraction_leaf=0.0, n_estimators=20, n_jobs=-1,\n",
      "           oob_score=False, random_state=None, verbose=0, warm_start=False)\n",
      "\n",
      "Random Forest Regression Performance Metrics\n",
      "R^2 = 0.7955100049906885\n",
      "MAE 187.33461079779613\n",
      "MSE 87134.31404123179\n",
      "RMSE 295.18521988953273\n"
     ]
    }
   ],
   "source": [
    "# Fit \n",
    "# Import model\n",
    "from sklearn.ensemble import RandomForestRegressor \n",
    "\n",
    "# Instantiate model object\n",
    "rforest = RandomForestRegressor(n_estimators = 20, n_jobs = -1)\n",
    "\n",
    "# Fit to training data\n",
    "rforest = rforest.fit(X_train,y_train)\n",
    "print(rforest)\n",
    "\n",
    "# Predict\n",
    "y_pred_rforest = rforest.predict(X_test)\n",
    "\n",
    "# Score It\n",
    "from sklearn import metrics\n",
    "print('\\nRandom Forest Regression Performance Metrics')\n",
    "print('R^2 =',metrics.explained_variance_score(y_test,y_pred_rforest))\n",
    "print('MAE',metrics.mean_absolute_error(y_test, y_pred_rforest))\n",
    "print('MSE',metrics.mean_squared_error(y_test, y_pred_rforest))\n",
    "print('RMSE',np.sqrt(metrics.mean_squared_error(y_test, y_pred_rforest)))"
   ]
  },
  {
   "cell_type": "code",
   "execution_count": null,
   "metadata": {},
   "outputs": [],
   "source": []
  }
 ],
 "metadata": {
  "kernelspec": {
   "display_name": "Python 3",
   "language": "python",
   "name": "python3"
  },
  "language_info": {
   "codemirror_mode": {
    "name": "ipython",
    "version": 3
   },
   "file_extension": ".py",
   "mimetype": "text/x-python",
   "name": "python",
   "nbconvert_exporter": "python",
   "pygments_lexer": "ipython3",
   "version": "3.7.0"
  }
 },
 "nbformat": 4,
 "nbformat_minor": 2
}
